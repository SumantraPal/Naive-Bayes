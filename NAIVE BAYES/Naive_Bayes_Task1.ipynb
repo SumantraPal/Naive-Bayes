{
 "cells": [
  {
   "cell_type": "code",
   "execution_count": 101,
   "metadata": {},
   "outputs": [],
   "source": [
    "import numpy as np\n",
    "import pandas as pd"
   ]
  },
  {
   "cell_type": "markdown",
   "metadata": {},
   "source": [
    "Q1- What is the chance of someone having COPD (a life-threatening lung disease) given he or she is a smoker - P(A|B) . This statistic is hard to figure out, but we do know from medical studies the probability of someone being a smoker given that he/she has COPD -  P(B|A) . We also know  P(B)  - the probability that a person is a smoker and  P(A)  - the chance that someone has COPD. The figures below are rough estimations:\n",
    "\n",
    "P(A)=0.07 having COPD ,  P(B)=0.18 smokers   AND  P(B | A)=0.85 is or was smoker and given COPD diagnosis"
   ]
  },
  {
   "cell_type": "code",
   "execution_count": 103,
   "metadata": {},
   "outputs": [
    {
     "data": {
      "text/plain": [
       "0.3305555555555556"
      ]
     },
     "execution_count": 103,
     "metadata": {},
     "output_type": "execute_result"
    }
   ],
   "source": [
    "#Q1 What is the probability of someone having COPD given the person is or was a smoker?\n",
    "prob_A=0.07\n",
    "prob_B=0.18\n",
    "prob_B_and_A=0.85\n",
    "prob_of_A_and_B=(prob_B_and_A * prob_A)/prob_B\n",
    "prob_of_A_and_B"
   ]
  },
  {
   "cell_type": "code",
   "execution_count": 10,
   "metadata": {},
   "outputs": [
    {
     "name": "stdout",
     "output_type": "stream",
     "text": [
      "<class 'pandas.core.frame.DataFrame'>\n",
      "RangeIndex: 2914 entries, 0 to 2913\n",
      "Data columns (total 3 columns):\n",
      "patient_id     2914 non-null int64\n",
      "test_result    2914 non-null object\n",
      "has_cancer     2914 non-null bool\n",
      "dtypes: bool(1), int64(1), object(1)\n",
      "memory usage: 48.5+ KB\n"
     ]
    }
   ],
   "source": [
    "df = pd.read_csv('cancer_test_data.csv')\n",
    "df.info()"
   ]
  },
  {
   "cell_type": "code",
   "execution_count": 11,
   "metadata": {},
   "outputs": [
    {
     "data": {
      "text/html": [
       "<div>\n",
       "<style scoped>\n",
       "    .dataframe tbody tr th:only-of-type {\n",
       "        vertical-align: middle;\n",
       "    }\n",
       "\n",
       "    .dataframe tbody tr th {\n",
       "        vertical-align: top;\n",
       "    }\n",
       "\n",
       "    .dataframe thead th {\n",
       "        text-align: right;\n",
       "    }\n",
       "</style>\n",
       "<table border=\"1\" class=\"dataframe\">\n",
       "  <thead>\n",
       "    <tr style=\"text-align: right;\">\n",
       "      <th></th>\n",
       "      <th>patient_id</th>\n",
       "      <th>test_result</th>\n",
       "      <th>has_cancer</th>\n",
       "    </tr>\n",
       "  </thead>\n",
       "  <tbody>\n",
       "    <tr>\n",
       "      <th>0</th>\n",
       "      <td>79452</td>\n",
       "      <td>Negative</td>\n",
       "      <td>False</td>\n",
       "    </tr>\n",
       "    <tr>\n",
       "      <th>1</th>\n",
       "      <td>81667</td>\n",
       "      <td>Positive</td>\n",
       "      <td>True</td>\n",
       "    </tr>\n",
       "    <tr>\n",
       "      <th>2</th>\n",
       "      <td>76297</td>\n",
       "      <td>Negative</td>\n",
       "      <td>False</td>\n",
       "    </tr>\n",
       "    <tr>\n",
       "      <th>3</th>\n",
       "      <td>36593</td>\n",
       "      <td>Negative</td>\n",
       "      <td>False</td>\n",
       "    </tr>\n",
       "    <tr>\n",
       "      <th>4</th>\n",
       "      <td>53717</td>\n",
       "      <td>Negative</td>\n",
       "      <td>False</td>\n",
       "    </tr>\n",
       "  </tbody>\n",
       "</table>\n",
       "</div>"
      ],
      "text/plain": [
       "   patient_id test_result  has_cancer\n",
       "0       79452    Negative       False\n",
       "1       81667    Positive        True\n",
       "2       76297    Negative       False\n",
       "3       36593    Negative       False\n",
       "4       53717    Negative       False"
      ]
     },
     "execution_count": 11,
     "metadata": {},
     "output_type": "execute_result"
    }
   ],
   "source": [
    "df.head()"
   ]
  },
  {
   "cell_type": "code",
   "execution_count": 86,
   "metadata": {},
   "outputs": [
    {
     "data": {
      "text/plain": [
       "0.34282178217821785"
      ]
     },
     "execution_count": 86,
     "metadata": {},
     "output_type": "execute_result"
    }
   ],
   "source": [
    "#Q2- What proportion of patients who tested positive has cancer?\n",
    "poss=df[df['test_result']=='Positive']\n",
    "mask2=df['has_cancer']==True\n",
    "total_poss=pos.shape[0]\n",
    "mask1=df['test_result']=='Positive'\n",
    "mask2=df['has_cancer']==True\n",
    "poss_and_canc=df[mask1 & mask2]\n",
    "total_poss_and_canc=poss_and_canc.shape[0]\n",
    "proportion_of_poss_and_having_cancer=total_poss_and_canc/total_poss\n",
    "proportion_of_poss_and_having_cancer"
   ]
  },
  {
   "cell_type": "code",
   "execution_count": 87,
   "metadata": {},
   "outputs": [
    {
     "data": {
      "text/plain": [
       "0.6571782178217822"
      ]
     },
     "execution_count": 87,
     "metadata": {},
     "output_type": "execute_result"
    }
   ],
   "source": [
    "#Q3- What proportion of patients who tested positive doesn't have cancer?\n",
    "\n",
    "proportion_of_poss_and_doesnot_having_cancer=1-proportion_of_poss_and_having_cancer\n",
    "proportion_of_poss_and_doesnot_having_cancer"
   ]
  },
  {
   "cell_type": "code",
   "execution_count": 97,
   "metadata": {},
   "outputs": [
    {
     "data": {
      "text/plain": [
       "0.013770180436847104"
      ]
     },
     "execution_count": 97,
     "metadata": {},
     "output_type": "execute_result"
    }
   ],
   "source": [
    "#Q4- What proportion of patients who tested negative has cancer?\n",
    "neg=df[df['test_result']=='Negative']\n",
    "total_neg=neg.shape[0]\n",
    "mask1=df['test_result']=='Negative'\n",
    "mask2=df['has_cancer']==True\n",
    "neg_and_canc=df[mask1 & mask2]\n",
    "total_neg_and_canc=neg_and_canc.shape[0]\n",
    "proportion_of_neg_and_having_cancer=total_neg_and_canc/total_neg\n",
    "proportion_of_neg_and_having_cancer\n"
   ]
  },
  {
   "cell_type": "code",
   "execution_count": 99,
   "metadata": {},
   "outputs": [
    {
     "data": {
      "text/plain": [
       "0.9862298195631529"
      ]
     },
     "execution_count": 99,
     "metadata": {},
     "output_type": "execute_result"
    }
   ],
   "source": [
    "#Q5- What proportion of patients who tested negative doesn't have cancer?\n",
    "proportion_of_neg_and_doesnot_having_cancer=1-proportion_of_neg_and_having_cancer\n",
    "proportion_of_neg_and_doesnot_having_cancer"
   ]
  },
  {
   "cell_type": "code",
   "execution_count": null,
   "metadata": {},
   "outputs": [],
   "source": []
  }
 ],
 "metadata": {
  "kernelspec": {
   "display_name": "Python 3",
   "language": "python",
   "name": "python3"
  },
  "language_info": {
   "codemirror_mode": {
    "name": "ipython",
    "version": 3
   },
   "file_extension": ".py",
   "mimetype": "text/x-python",
   "name": "python",
   "nbconvert_exporter": "python",
   "pygments_lexer": "ipython3",
   "version": "3.7.4"
  }
 },
 "nbformat": 4,
 "nbformat_minor": 2
}
